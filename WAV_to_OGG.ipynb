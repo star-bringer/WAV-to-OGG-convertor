{
 "cells": [
  {
   "cell_type": "code",
   "execution_count": 1,
   "metadata": {},
   "outputs": [
    {
     "name": "stdout",
     "output_type": "stream",
     "text": [
      "Collecting PySoundFile\n",
      "\u001b[?25l  Downloading https://files.pythonhosted.org/packages/f7/62/bddd31ba4f575eca81c6642d809fe01ed5ee5f55ebb4e9b14d0a033cc6bf/PySoundFile-0.9.0.post1-py2.py3.cp26.cp27.cp32.cp33.cp34.cp35.cp36.pp27.pp32.pp33-none-macosx_10_5_x86_64.macosx_10_6_intel.macosx_10_9_intel.macosx_10_9_x86_64.whl (573kB)\n",
      "\u001b[K     |████████████████████████████████| 573kB 548kB/s eta 0:00:01\n",
      "\u001b[?25hRequirement already satisfied: cffi>=0.6 in /anaconda3/lib/python3.7/site-packages (from PySoundFile) (1.12.3)\n",
      "Requirement already satisfied: pycparser in /anaconda3/lib/python3.7/site-packages (from cffi>=0.6->PySoundFile) (2.19)\n",
      "Installing collected packages: PySoundFile\n",
      "Successfully installed PySoundFile-0.9.0.post1\n"
     ]
    }
   ],
   "source": [
    "!pip install PySoundFile#Загружаем библиотеку"
   ]
  },
  {
   "cell_type": "code",
   "execution_count": 58,
   "metadata": {},
   "outputs": [],
   "source": [
    "import soundfile as sf\n",
    "import os\n",
    "\n",
    "file_path = os.walk('D/I/R/E/C/T/O/R/Y')\n",
    "\n",
    "folder = []\n",
    "\n",
    "for file in file_path:\n",
    "    folder.append(file)\n",
    "    \n",
    "for sound in folder:\n",
    "    for path in sound[2]:\n",
    "        #if path == '.DS_Store':# FOR LAMBERG ONLY\n",
    "            #pass\n",
    "        else:\n",
    "            data, samplerate = sf.read(sound[0]+'/'+path)\n",
    "            sf.write('{}.ogg'.format((sound[0]+'/'+path).replace('.wav','')), data, samplerate)"
   ]
  },
  {
   "cell_type": "code",
   "execution_count": null,
   "metadata": {},
   "outputs": [],
   "source": []
  }
 ],
 "metadata": {
  "kernelspec": {
   "display_name": "Python 3",
   "language": "python",
   "name": "python3"
  },
  "language_info": {
   "codemirror_mode": {
    "name": "ipython",
    "version": 3
   },
   "file_extension": ".py",
   "mimetype": "text/x-python",
   "name": "python",
   "nbconvert_exporter": "python",
   "pygments_lexer": "ipython3",
   "version": "3.7.3"
  }
 },
 "nbformat": 4,
 "nbformat_minor": 2
}
